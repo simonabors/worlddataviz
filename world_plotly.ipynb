{
 "cells": [
  {
   "cell_type": "code",
   "execution_count": 1,
   "metadata": {},
   "outputs": [],
   "source": [
    "import pandas as pd\n",
    "import numpy as np\n",
    "\n",
    "import plotly.express as px\n",
    "\n",
    "from dataprep.clean import clean_country"
   ]
  },
  {
   "cell_type": "code",
   "execution_count": 2,
   "metadata": {},
   "outputs": [],
   "source": [
    "gdp_per_capita = pd.read_csv('./data/country_gdp_per_capita_worldbank.csv')\n",
    "gdp_per_capita = gdp_per_capita[['Country Name', '2010', '2011', '2012', '2013', '2014', '2015', '2016', '2017', '2018', '2019', '2020']]"
   ]
  },
  {
   "cell_type": "code",
   "execution_count": 3,
   "metadata": {},
   "outputs": [
    {
     "name": "stderr",
     "output_type": "stream",
     "text": [
      "c:\\Users\\johnb\\miniconda3\\envs\\loupy\\lib\\site-packages\\dask\\dataframe\\core.py:6762: FutureWarning: Meta is not valid, `map_partitions` and `map_overlap` expects output to be a pandas object. Try passing a pandas object as meta or a dict or tuple representing the (name, dtype) of the columns. In the future the meta you passed will not work.\n",
      "  warnings.warn(\n"
     ]
    },
    {
     "data": {
      "application/vnd.jupyter.widget-view+json": {
       "model_id": "39bd1a8db8814069a858bf7587f0fde1",
       "version_major": 2,
       "version_minor": 0
      },
      "text/plain": [
       "  0%|          | 0/8 [00:00<?, ?it/s]"
      ]
     },
     "metadata": {},
     "output_type": "display_data"
    },
    {
     "name": "stdout",
     "output_type": "stream",
     "text": [
      "Country Cleaning Report:\n",
      "\t216 values cleaned (81.2%)\n",
      "\t50 values unable to be parsed (18.8%), set to NaN\n",
      "Result contains 216 (81.2%) values in the correct format and 50 null values (18.8%)\n"
     ]
    },
    {
     "name": "stderr",
     "output_type": "stream",
     "text": [
      "C:\\Users\\johnb\\AppData\\Local\\Temp\\ipykernel_21568\\2109561183.py:26: FutureWarning: The default value of numeric_only in DataFrameGroupBy.sum is deprecated. In a future version, numeric_only will default to False. Either specify numeric_only or select only columns which should be valid for the function.\n",
      "  invest_plotly = invest_plotly.groupby(['ISO3']).agg('sum').reset_index()\n"
     ]
    }
   ],
   "source": [
    "usa = pd.read_csv('./data/USAData_RenewableInvestment_2010-2020.csv').set_index('Country')\n",
    "\n",
    "## read plotly data ##\n",
    "\n",
    "temp_delta_plotly = pd.read_csv('./data/Annual_Surface_Temperature_Change.csv')\n",
    "invest_plotly = pd.read_csv('data/Environmental_Protection_Expenditures.csv')\n",
    "gdp_per_capita_plotly = gdp_per_capita.copy()\n",
    "\n",
    "## prepare data for plotly ##\n",
    "\n",
    "gdp_per_capita_plotly = gdp_per_capita_plotly.rename(columns={'Country Name': 'Country'})\n",
    "\n",
    "# look up ISO3 codes for countries\n",
    "gdp_per_capita_plotly = clean_country(gdp_per_capita_plotly, \"Country\", output_format=\"alpha-3\").rename(columns={'Country_clean': 'ISO3'})\n",
    "gdp_per_capita_plotly = gdp_per_capita_plotly[['Country', 'ISO3', '2010', '2011', '2012', '2013', '2014', '2015', '2016', '2017', '2018', '2019', '2020']]\n",
    "gdp_per_capita_plotly = gdp_per_capita_plotly.rename(columns={'2010': 2010, '2011': 2011, '2012': 2012, '2013': 2013, '2014': 2014, '2015': 2015, '2016': 2016, '2017': 2017, '2018': 2018, '2019': 2019, '2020': 2020})\n",
    "\n",
    "temp_delta_plotly = temp_delta_plotly[['Country', 'ISO3', 'F2010', 'F2011', 'F2012', 'F2013', 'F2014', 'F2015', 'F2016', 'F2017', 'F2018', 'F2019', 'F2020']]\n",
    "temp_delta_plotly = temp_delta_plotly.rename(columns={'F2010': 2010, 'F2011': 2011, 'F2012': 2012, 'F2013': 2013, 'F2014': 2014, 'F2015': 2015, 'F2016': 2016, 'F2017': 2017, 'F2018': 2018, 'F2019': 2019, 'F2020': 2020})\n",
    "\n",
    "usa2 = usa.copy().reset_index()\n",
    "usa2['ISO3'] = 'USA'\n",
    "invest_plotly = invest_plotly[invest_plotly['Unit'] == 'Percent of GDP'].fillna(int(0))\n",
    "invest_plotly = invest_plotly[['Country', 'ISO3', 'F2010', 'F2011', 'F2012', 'F2013', 'F2014', 'F2015', 'F2016', 'F2017', 'F2018', 'F2019', 'F2020']].reset_index(drop=True)\n",
    "invest_plotly = pd.concat([invest_plotly, usa2])\n",
    "invest_plotly = invest_plotly.groupby(['ISO3']).agg('sum').reset_index()\n",
    "invest_plotly = invest_plotly.rename(columns={'F2010': 2010, 'F2011': 2011, 'F2012': 2012, 'F2013': 2013, 'F2014': 2014, 'F2015': 2015, 'F2016': 2016, 'F2017': 2017, 'F2018': 2018, 'F2019': 2019, 'F2020': 2020})\n",
    "\n",
    "temp_delta_plotly = temp_delta_plotly.melt(id_vars=['ISO3'], value_vars=[2010, 2011, 2012, 2013, 2014, 2015, 2016, 2017, 2018, 2019, 2020], var_name='Year', value_name='Temp_Change')\n",
    "gdp_per_capita_plotly = gdp_per_capita_plotly.melt(id_vars=['ISO3', 'Country'], value_vars=[2010, 2011, 2012, 2013, 2014, 2015, 2016, 2017, 2018, 2019, 2020], var_name='Year', value_name='GDP_Per_Capita')\n",
    "invest_plotly = invest_plotly.melt(id_vars=['ISO3'], value_vars=[2010, 2011, 2012, 2013, 2014, 2015, 2016, 2017, 2018, 2019, 2020], var_name='Year', value_name='Investment_Percent')\n",
    "\n",
    "# #temp_delta_plotly.head(5)\n",
    "# #invest_plotly.head(5)\n",
    "# #gdp_per_capita_plotly.head(5)\n",
    "\n",
    "plotly_data = pd.merge(temp_delta_plotly, invest_plotly, on=['ISO3', 'Year'])\n",
    "plotly_data = pd.merge(gdp_per_capita_plotly, plotly_data, on=['ISO3', 'Year'])\n",
    "\n",
    "# drop all YEMEN data, as there is missing GDP data and no temp_change data\n",
    "plotly_data = plotly_data.drop(plotly_data.loc[plotly_data['ISO3']=='YEM'].index)\n",
    "\n",
    "# drop 2010-2012 data for SOMALIA, as there is no GDP data\n",
    "plotly_data = plotly_data.drop(plotly_data.loc[(plotly_data['ISO3']=='SOM') & (plotly_data['Year']<2013)].index)"
   ]
  },
  {
   "cell_type": "code",
   "execution_count": 4,
   "metadata": {},
   "outputs": [],
   "source": [
    "# new_country_data = plotly_data.copy()\n",
    "# new_country_data = new_country_data.groupby('Country').agg({'Temp_Change': 'mean', 'Investment_Percent': 'mean', 'GDP_Per_Capita': 'mean'})\n",
    "# new_country_data['Temp_Change'] = new_country_data['Temp_Change'] + .25\n",
    "# new_country_data = new_country_data.rename(columns={'Temp_Change': 'temp_delta_avg', 'Investment_Percent': 'renew_invest_avg', 'GDP_Per_Capita': 'gdp_per_capita_avg'})\n",
    "\n",
    "# g20 = ['Argentina', 'Australia', 'Brazil', 'Canada', 'China', 'France', 'Germany', 'India', 'Indonesia', 'Italy', 'Japan', 'Republic of Korea', 'Mexico', 'Russia', 'Saudi Arabia', 'South Africa', 'Turkey', 'United Kingdom', 'United States', 'Austria', 'Belgium', 'Bulgaria', 'Croatia', 'Cyprus', 'Czech Republic', 'Denmark', 'Estonia', 'Finland', 'Greece', 'Hungary', 'Ireland', 'Latvia', 'Lithuania', 'Luxembourg', 'Malta', 'Netherlands', 'Poland', 'Portugal', 'Romania', 'Slovakia', 'Slovenia', 'Spain', 'Sweden']\n",
    "# new_country_data['g20'] = new_country_data.index.isin(g20).tolist()"
   ]
  },
  {
   "cell_type": "code",
   "execution_count": 5,
   "metadata": {},
   "outputs": [],
   "source": [
    "# c1 = (new_country_data['g20'] == True)\n",
    "# c2 = (new_country_data['renew_invest_avg'] > 2)\n",
    "# c3 = (new_country_data['temp_delta_avg'] < 1.5)\n",
    "\n",
    "# new_country_data[\"invest_impact\"] = np.where(c1 & c2 & c3, \"darkgreen\", \"False\")\n",
    "# new_country_data[\"invest_impact\"] = np.where(c1 & c2 & ~c3, \"darkorange\", new_country_data[\"invest_impact\"])\n",
    "# new_country_data[\"invest_impact\"] = np.where(c1 & ~c2 & c3, \"darkblue\", new_country_data[\"invest_impact\"])\n",
    "# new_country_data[\"invest_impact\"] = np.where(c1 & ~c2 & ~c3, \"darkred\", new_country_data[\"invest_impact\"])\n",
    "# new_country_data[\"invest_impact\"] = np.where(~c1 & c2 & c3, \"lightgreen\", new_country_data[\"invest_impact\"])\n",
    "# new_country_data[\"invest_impact\"] = np.where(~c1 & c2 & ~c3, \"lightorange\", new_country_data[\"invest_impact\"])\n",
    "# new_country_data[\"invest_impact\"] = np.where(~c1 & ~c2 & c3, \"lightblue\", new_country_data[\"invest_impact\"])\n",
    "# new_country_data[\"invest_impact\"] = np.where(~c1 & ~c2 & ~c3, \"lightred\", new_country_data[\"invest_impact\"])"
   ]
  },
  {
   "cell_type": "code",
   "execution_count": 23,
   "metadata": {},
   "outputs": [],
   "source": [
    "g20 = ['Argentina', 'Australia', 'Brazil', 'Canada', 'China', 'France', 'Germany', 'India', 'Indonesia', 'Italy', 'Japan', 'Republic of Korea', 'Mexico', 'Russia', 'Saudi Arabia', 'South Africa', 'Turkey', 'United Kingdom', 'United States', 'Austria', 'Belgium', 'Bulgaria', 'Croatia', 'Cyprus', 'Czech Republic', 'Denmark', 'Estonia', 'Finland', 'Greece', 'Hungary', 'Ireland', 'Latvia', 'Lithuania', 'Luxembourg', 'Malta', 'Netherlands', 'Poland', 'Portugal', 'Romania', 'Slovakia', 'Slovenia', 'Spain', 'Sweden']\n",
    "plotly_data['g20'] = plotly_data['Country'].isin(g20).tolist()\n",
    "\n",
    "g20_countries = plotly_data.loc[plotly_data['g20'] == True]['Country'].to_list()\n"
   ]
  },
  {
   "cell_type": "code",
   "execution_count": 14,
   "metadata": {},
   "outputs": [],
   "source": [
    "plotly_data['Temp_Change'] = plotly_data['Temp_Change'] + .25"
   ]
  },
  {
   "cell_type": "code",
   "execution_count": 15,
   "metadata": {},
   "outputs": [],
   "source": [
    "p1 = (plotly_data['Investment_Percent'] > 2)\n",
    "p2 = (plotly_data['Temp_Change'] < 1.5)\n",
    "\n",
    "plotly_data['color_code'] = np.where(p1 & p2, '#46725D', \"False\")\n",
    "plotly_data['color_code'] = np.where(p1 & ~p2, '#A46D13', plotly_data['color_code'])\n",
    "plotly_data['color_code'] = np.where(~p1 & p2, '#505693', plotly_data['color_code'])\n",
    "plotly_data['color_code'] = np.where(~p1 & ~p2, '#9A381D', plotly_data['color_code'])\n",
    "\n",
    "# plotly_data.loc[plotly_data['Country']=='United States'].color_code[plotly_data['Year']==2010]"
   ]
  },
  {
   "cell_type": "code",
   "execution_count": 27,
   "metadata": {},
   "outputs": [],
   "source": [
    "plotly_data.to_csv('plotly_data.csv')"
   ]
  },
  {
   "cell_type": "code",
   "execution_count": null,
   "metadata": {},
   "outputs": [],
   "source": []
  },
  {
   "cell_type": "code",
   "execution_count": 29,
   "metadata": {},
   "outputs": [],
   "source": [
    "# make plotly figure\n",
    "\n",
    "import plotly.graph_objects as go\n",
    "\n",
    "dataset = plotly_data.copy()\n",
    "\n",
    "years = [2010, 2011, 2012, 2013, 2014, 2015, 2016, 2017, 2018, 2019, 2020]\n",
    "\n",
    "# make figure\n",
    "fig_dict = {\n",
    "    \"data\": [],\n",
    "    \"layout\": {},\n",
    "    \"frames\": []\n",
    "}\n",
    "\n",
    "min_x_val = dataset['Temp_Change'].min()-.2\n",
    "max_x_val = dataset['Temp_Change'].max()+.2\n",
    "min_y_val = dataset['Investment_Percent'].min()-.2\n",
    "max_y_val = dataset['Investment_Percent'].max()+.2\n",
    "\n",
    "# fill in most of layout\n",
    "fig_dict[\"layout\"][\"xaxis\"] = {\"range\": [min_x_val, max_x_val], \"title\": f'Annual Temperature Above Pre-industrial Levels ({chr(176)}C)'}\n",
    "fig_dict[\"layout\"][\"yaxis\"] = {\"range\": [min_y_val, 4.5], \"title\": \"Investment in Renewable Energy (% GDP)\"}  # \"type\": \"log\" makes y-axis log scale\n",
    "fig_dict[\"layout\"][\"hovermode\"] = \"closest\"\n",
    "fig_dict[\"layout\"][\"updatemenus\"] = [\n",
    "    {\n",
    "        \"buttons\": [\n",
    "            {\n",
    "                \"args\": [None, {\"frame\": {\"duration\": 700, \"redraw\": False},\n",
    "                                \"fromcurrent\": True, \"transition\": {\"duration\": 500,\n",
    "                                                                    \"easing\": \"quadratic-in-out\"}}],\n",
    "                \"label\": \"Play\",\n",
    "                \"method\": \"animate\"\n",
    "            },\n",
    "            {\n",
    "                \"args\": [[None], {\"frame\": {\"duration\": 0, \"redraw\": False},\n",
    "                                  \"mode\": \"immediate\",\n",
    "                                  \"transition\": {\"duration\": 0}}],\n",
    "                \"label\": \"Pause\",\n",
    "                \"method\": \"animate\"\n",
    "            }\n",
    "        ],\n",
    "        \"direction\": \"left\",\n",
    "        \"pad\": {\"r\": 10, \"t\": 87},\n",
    "        \"showactive\": False,\n",
    "        \"type\": \"buttons\",\n",
    "        \"x\": 0.1,\n",
    "        \"xanchor\": \"right\",\n",
    "        \"y\": 0,\n",
    "        \"yanchor\": \"top\"\n",
    "    }\n",
    "]\n",
    "\n",
    "sliders_dict = {\n",
    "    \"active\": 0,\n",
    "    \"yanchor\": \"top\",\n",
    "    \"xanchor\": \"left\",\n",
    "    \"currentvalue\": {\n",
    "        \"font\": {\"size\": 20},\n",
    "        \"prefix\": \"Year:\",\n",
    "        \"visible\": True,\n",
    "        \"xanchor\": \"right\"\n",
    "    },\n",
    "    \"transition\": {\"duration\": 300, \"easing\": \"cubic-in-out\"},\n",
    "    \"pad\": {\"b\": 10, \"t\": 50},\n",
    "    \"len\": 0.9,\n",
    "    \"x\": 0.1,\n",
    "    \"y\": 0,\n",
    "    \"steps\": []\n",
    "}\n",
    "\n",
    "Countries = list(plotly_data['Country'].unique())\n",
    "Countries = sorted(Countries)\n",
    "\n",
    "# make data\n",
    "year = 2010\n",
    "for Country in Countries:\n",
    "    dataset_by_year = dataset[dataset[\"Year\"] == year]\n",
    "    dataset_by_year_and_country = dataset_by_year[\n",
    "        dataset_by_year[\"Country\"] == Country]\n",
    "\n",
    "    data_dict = {\n",
    "        \"x\": list(dataset_by_year_and_country[\"Temp_Change\"]),\n",
    "        \"y\": list(dataset_by_year_and_country[\"Investment_Percent\"]),\n",
    "        \"mode\": \"markers\",\n",
    "        \"marker\": {\n",
    "            \"sizemode\": \"area\",\n",
    "            \"sizeref\": 300,\n",
    "            \"size\": list(dataset_by_year_and_country[\"GDP_Per_Capita\"]),\n",
    "            \"color\": dataset_by_year_and_country.loc[dataset_by_year_and_country['Country']==Country].color_code[dataset_by_year_and_country['Year']==year]\n",
    "            },\n",
    "            \"name\": Country\n",
    "            }\n",
    "    fig_dict[\"data\"].append(data_dict)\n",
    "\n",
    "# make frames\n",
    "for year in years:\n",
    "    frame = {\"data\": [], \"name\": str(year)}\n",
    "    for Country in Countries:\n",
    "        dataset_by_year = dataset[dataset[\"Year\"] == int(year)]\n",
    "        dataset_by_year_and_country = dataset_by_year[\n",
    "            dataset_by_year[\"Country\"] == Country]\n",
    "\n",
    "        data_dict = {\n",
    "            \"x\": list(dataset_by_year_and_country[\"Temp_Change\"]),\n",
    "            \"y\": list(dataset_by_year_and_country[\"Investment_Percent\"]),\n",
    "            \"mode\": \"markers\",\n",
    "            \"marker\": {\n",
    "                \"sizemode\": \"area\",\n",
    "                \"sizeref\": 300,\n",
    "                \"size\": list(dataset_by_year_and_country[\"GDP_Per_Capita\"]),\n",
    "                \"color\": dataset_by_year_and_country.loc[dataset_by_year_and_country['Country']==Country].color_code[dataset_by_year_and_country['Year']==year]\n",
    "                },\n",
    "                \"name\": Country\n",
    "                }\n",
    "        frame[\"data\"].append(data_dict)\n",
    "\n",
    "    fig_dict[\"frames\"].append(frame)\n",
    "    slider_step = {\"args\": [\n",
    "        [year],\n",
    "        {\"frame\": {\"duration\": 1500, \"redraw\": False},\n",
    "         \"mode\": \"immediate\",\n",
    "         \"transition\": {\"duration\": 1500}}\n",
    "    ],\n",
    "        \"label\": year,\n",
    "        \"method\": \"animate\"}\n",
    "    sliders_dict[\"steps\"].append(slider_step)\n",
    "\n",
    "\n",
    "fig_dict[\"layout\"][\"sliders\"] = [sliders_dict]\n",
    "\n",
    "fig = go.Figure(fig_dict)\n",
    "\n",
    "fig.add_hline(y=2, line_dash=\"dash\", line_color=\"black\", annotation_text=\"Investment Needed to Fully Transition to Renewable Energy by 2050\", annotation_position=\"bottom right\")\n",
    "fig.add_vline(x=1.5, line_dash=\"dash\", line_color=\"black\", annotation_text=\"2050 Target Temperature Increase\", annotation_position=\"top right\")\n",
    "fig.add_annotation(x=3.75, y=-.35, text=\"Urgent Action Needed\", showarrow=False, font_size=12, bordercolor='#9A381D', font=dict(color='#9A381D'), borderpad=3)\n",
    "fig.add_annotation(x=3.67, y=4.1, text=\"Continued Progress Needed\", showarrow=False, font_size=12, bordercolor='#A46D13', font=dict(color='#A46D13'), borderpad=3)\n",
    "fig.add_annotation(x=0.2, y=4.1, text=\"Meeting 2050 Climate Goals\", showarrow=False, font_size=12, bordercolor='#46725D', font=dict(color='#46725D'), borderpad=3)\n",
    "fig.add_annotation(x=0.17, y=-.35, text=\"Investments Falling Short\", showarrow=False, font_size=12, bordercolor='#505693', font=dict(color='#505693'), borderpad=3)\n",
    "\n",
    "fig.update_layout(\n",
    "    title={\n",
    "        'text': \"G20 Countries Have Invested Little as Temperatures Dramatically Increased Over the Last Decade\",\n",
    "        'y':0.9,\n",
    "        'x':0.5,\n",
    "        'xanchor': 'center',\n",
    "        'yanchor': 'top'},\n",
    "    showlegend=False\n",
    "    )\n",
    "\n",
    "fig.write_html(\"index.html\")"
   ]
  }
 ],
 "metadata": {
  "kernelspec": {
   "display_name": "loupy",
   "language": "python",
   "name": "python3"
  },
  "language_info": {
   "codemirror_mode": {
    "name": "ipython",
    "version": 3
   },
   "file_extension": ".py",
   "mimetype": "text/x-python",
   "name": "python",
   "nbconvert_exporter": "python",
   "pygments_lexer": "ipython3",
   "version": "3.10.4"
  },
  "orig_nbformat": 4,
  "vscode": {
   "interpreter": {
    "hash": "05b4c387ed9151b7bc779f84cb812a3e4390bbded431a72393fa75a6615fc3ad"
   }
  }
 },
 "nbformat": 4,
 "nbformat_minor": 2
}
